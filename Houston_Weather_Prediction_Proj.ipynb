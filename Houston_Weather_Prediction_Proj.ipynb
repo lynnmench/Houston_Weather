{
 "cells": [
  {
   "cell_type": "markdown",
   "id": "e511cfa9",
   "metadata": {},
   "source": [
    "Author: Lynn Menchaca\n",
    "\n",
    "Date: 12Dec2022\n",
    "\n",
    "Project: Mental Health Classifier from Tweets\n",
    "\n",
    "The purpose of this project is to gain exposure to unbalanced data. Two separate sets of models will be used with this data set. One for binary classification predicting if it will rain (feature rain_today). The second will be for regression predicting how much it will rain (feature rainfall).\n",
    "\n",
    "Resources:\n",
    "\n",
    "- Kaggle Data Set: Houston Weather Data\n",
    "    - https://www.kaggle.com/datasets/alejandrochapa/houston-weather-data\n",
    "- Kaggle Data Set: Houston Weather - 2020 - 21 - Rain Hours Prediction\n",
    "    - https://www.kaggle.com/datasets/praxisart/houston-weather-202021-rain-hours-prediction"
   ]
  },
  {
   "cell_type": "markdown",
   "id": "6f0e9b8d",
   "metadata": {},
   "source": [
    "### Project Overview\n",
    "\n",
    "### Exploratory Data Analysis\n",
    "- Initial Overview: size, collumns, data types, missing values\n",
    "- Convert the number imported as object data in to numeric data.\n",
    "\n",
    "\n",
    "### Feature Engineering and Machine Learning Models:\n",
    "- Bag of Words Model (Convert strings to a matrix)\n",
    "    - Count Vectorizer with Tfidf Transformation\n",
    "    - Tfidf Vectorizer\n",
    "    - Hashing Vectorizer\n",
    "- Dependant (X) and Independent (y) variables\n",
    "- Train Test Split\n",
    "- ML Models with Hyperparameter Tuning\n",
    "    - Multinomial NM Algorithm\n",
    "    - Passivie Aggressive Classifer\n",
    "    - Linear Support Vector Machine\n",
    "    - Logistic Regression"
   ]
  },
  {
   "cell_type": "code",
   "execution_count": 1,
   "id": "35b408e8",
   "metadata": {},
   "outputs": [],
   "source": [
    "import os\n",
    "import pandas as pd\n",
    "import numpy as np\n",
    "import seaborn as sns\n",
    "import matplotlib.pyplot as plt"
   ]
  },
  {
   "cell_type": "code",
   "execution_count": 2,
   "id": "64868d2d",
   "metadata": {},
   "outputs": [
    {
     "name": "stdout",
     "output_type": "stream",
     "text": [
      "2016  year has no data\n",
      "2017  year has no data\n",
      "2020  year has no data\n"
     ]
    },
    {
     "data": {
      "text/html": [
       "<div>\n",
       "<style scoped>\n",
       "    .dataframe tbody tr th:only-of-type {\n",
       "        vertical-align: middle;\n",
       "    }\n",
       "\n",
       "    .dataframe tbody tr th {\n",
       "        vertical-align: top;\n",
       "    }\n",
       "\n",
       "    .dataframe thead th {\n",
       "        text-align: right;\n",
       "    }\n",
       "</style>\n",
       "<table border=\"1\" class=\"dataframe\">\n",
       "  <thead>\n",
       "    <tr style=\"text-align: right;\">\n",
       "      <th></th>\n",
       "      <th>date</th>\n",
       "      <th>min_temp</th>\n",
       "      <th>max_temp</th>\n",
       "      <th>rainfall</th>\n",
       "      <th>wind_speed9am</th>\n",
       "      <th>wind_speed3pm</th>\n",
       "      <th>humidity9am</th>\n",
       "      <th>humidity3pm</th>\n",
       "      <th>pressure9am</th>\n",
       "      <th>pressure3pm</th>\n",
       "      <th>cloud9am</th>\n",
       "      <th>cloud3pm</th>\n",
       "      <th>temp9am</th>\n",
       "      <th>temp3pm</th>\n",
       "      <th>rain_today</th>\n",
       "      <th>rain_tomorrow</th>\n",
       "    </tr>\n",
       "  </thead>\n",
       "  <tbody>\n",
       "    <tr>\n",
       "      <th>0</th>\n",
       "      <td>2010-01-01</td>\n",
       "      <td>43.0</td>\n",
       "      <td>55.0</td>\n",
       "      <td>0.0</td>\n",
       "      <td>15.0</td>\n",
       "      <td>15.0</td>\n",
       "      <td>76.0</td>\n",
       "      <td>40.0</td>\n",
       "      <td>30.4</td>\n",
       "      <td>30.31</td>\n",
       "      <td>Cloudy</td>\n",
       "      <td>Fair</td>\n",
       "      <td>43.0</td>\n",
       "      <td>55.0</td>\n",
       "      <td>No</td>\n",
       "      <td>No</td>\n",
       "    </tr>\n",
       "    <tr>\n",
       "      <th>1</th>\n",
       "      <td>2010-01-02</td>\n",
       "      <td>35.0</td>\n",
       "      <td>53.0</td>\n",
       "      <td>0.0</td>\n",
       "      <td>5.0</td>\n",
       "      <td>7.0</td>\n",
       "      <td>76.0</td>\n",
       "      <td>28.0</td>\n",
       "      <td>30.35</td>\n",
       "      <td>30.24</td>\n",
       "      <td>Mostly Cloudy</td>\n",
       "      <td>Mostly Cloudy</td>\n",
       "      <td>44.0</td>\n",
       "      <td>52.0</td>\n",
       "      <td>No</td>\n",
       "      <td>No</td>\n",
       "    </tr>\n",
       "    <tr>\n",
       "      <th>2</th>\n",
       "      <td>2010-01-03</td>\n",
       "      <td>43.0</td>\n",
       "      <td>48.0</td>\n",
       "      <td>0.0</td>\n",
       "      <td>14.0</td>\n",
       "      <td>9.0</td>\n",
       "      <td>71.0</td>\n",
       "      <td>68.0</td>\n",
       "      <td>30.21</td>\n",
       "      <td>30.17</td>\n",
       "      <td>Cloudy</td>\n",
       "      <td>Cloudy</td>\n",
       "      <td>43.0</td>\n",
       "      <td>48.0</td>\n",
       "      <td>No</td>\n",
       "      <td>No</td>\n",
       "    </tr>\n",
       "    <tr>\n",
       "      <th>3</th>\n",
       "      <td>2010-01-04</td>\n",
       "      <td>36.0</td>\n",
       "      <td>48.0</td>\n",
       "      <td>0.0</td>\n",
       "      <td>15.0</td>\n",
       "      <td>14.0</td>\n",
       "      <td>70.0</td>\n",
       "      <td>42.0</td>\n",
       "      <td>30.37</td>\n",
       "      <td>30.35</td>\n",
       "      <td>Cloudy</td>\n",
       "      <td>Fair</td>\n",
       "      <td>41.0</td>\n",
       "      <td>48.0</td>\n",
       "      <td>No</td>\n",
       "      <td>No</td>\n",
       "    </tr>\n",
       "    <tr>\n",
       "      <th>4</th>\n",
       "      <td>2010-01-05</td>\n",
       "      <td>30.0</td>\n",
       "      <td>49.0</td>\n",
       "      <td>0.0</td>\n",
       "      <td>9.0</td>\n",
       "      <td>5.0</td>\n",
       "      <td>61.0</td>\n",
       "      <td>37.0</td>\n",
       "      <td>30.47</td>\n",
       "      <td>30.34</td>\n",
       "      <td>Fair</td>\n",
       "      <td>Partly Cloudy</td>\n",
       "      <td>35.0</td>\n",
       "      <td>48.0</td>\n",
       "      <td>No</td>\n",
       "      <td>No</td>\n",
       "    </tr>\n",
       "  </tbody>\n",
       "</table>\n",
       "</div>"
      ],
      "text/plain": [
       "         date  min_temp  max_temp  rainfall wind_speed9am wind_speed3pm  \\\n",
       "0  2010-01-01      43.0      55.0       0.0          15.0          15.0   \n",
       "1  2010-01-02      35.0      53.0       0.0           5.0           7.0   \n",
       "2  2010-01-03      43.0      48.0       0.0          14.0           9.0   \n",
       "3  2010-01-04      36.0      48.0       0.0          15.0          14.0   \n",
       "4  2010-01-05      30.0      49.0       0.0           9.0           5.0   \n",
       "\n",
       "  humidity9am humidity3pm pressure9am pressure3pm       cloud9am  \\\n",
       "0        76.0        40.0        30.4       30.31         Cloudy   \n",
       "1        76.0        28.0       30.35       30.24  Mostly Cloudy   \n",
       "2        71.0        68.0       30.21       30.17         Cloudy   \n",
       "3        70.0        42.0       30.37       30.35         Cloudy   \n",
       "4        61.0        37.0       30.47       30.34           Fair   \n",
       "\n",
       "        cloud3pm temp9am temp3pm rain_today rain_tomorrow  \n",
       "0           Fair    43.0    55.0         No            No  \n",
       "1  Mostly Cloudy    44.0    52.0         No            No  \n",
       "2         Cloudy    43.0    48.0         No            No  \n",
       "3           Fair    41.0    48.0         No            No  \n",
       "4  Partly Cloudy    35.0    48.0         No            No  "
      ]
     },
     "execution_count": 2,
     "metadata": {},
     "output_type": "execute_result"
    }
   ],
   "source": [
    "# Data Frames\n",
    "\n",
    "data_file_path = '/Users/lynnpowell/Documents/DS_Projects/Data_Files/Houston_Weather_Data/'\n",
    "\n",
    "#The Houston weather data covers years from 2010 to 2021\n",
    "#appending each year of weather data to create one large data file\n",
    "\n",
    "weather_files = []\n",
    "\n",
    "for year in range(2010, 2022):\n",
    "    data_file = data_file_path+'htx_'+str(year)+'_weather.csv'\n",
    "    \n",
    "    try:\n",
    "        df = pd.read_csv(data_file, index_col=None, header=0)\n",
    "    except OSError:\n",
    "        print(str(year), \" year has no data\")\n",
    "        continue\n",
    "    weather_files.append(df)\n",
    "    \n",
    "df_weather = pd.concat(weather_files, ignore_index=True)\n",
    "df_weather.head()"
   ]
  },
  {
   "cell_type": "code",
   "execution_count": 3,
   "id": "f40f84d8",
   "metadata": {},
   "outputs": [
    {
     "name": "stdout",
     "output_type": "stream",
     "text": [
      "data size:  (3286, 16)\n",
      "date              object\n",
      "min_temp         float64\n",
      "max_temp         float64\n",
      "rainfall         float64\n",
      "wind_speed9am     object\n",
      "wind_speed3pm     object\n",
      "humidity9am       object\n",
      "humidity3pm       object\n",
      "pressure9am       object\n",
      "pressure3pm       object\n",
      "cloud9am          object\n",
      "cloud3pm          object\n",
      "temp9am           object\n",
      "temp3pm           object\n",
      "rain_today        object\n",
      "rain_tomorrow     object\n",
      "dtype: object\n"
     ]
    }
   ],
   "source": [
    "#size of data frame and type of data for each feature\n",
    "print('data size: ', df_weather.shape)\n",
    "print(df_weather.dtypes)"
   ]
  },
  {
   "cell_type": "code",
   "execution_count": 4,
   "id": "093fa44a",
   "metadata": {},
   "outputs": [
    {
     "data": {
      "text/plain": [
       "date             0\n",
       "min_temp         0\n",
       "max_temp         0\n",
       "rainfall         0\n",
       "wind_speed9am    0\n",
       "wind_speed3pm    0\n",
       "humidity9am      0\n",
       "humidity3pm      0\n",
       "pressure9am      0\n",
       "pressure3pm      0\n",
       "cloud9am         0\n",
       "cloud3pm         0\n",
       "temp9am          0\n",
       "temp3pm          0\n",
       "rain_today       0\n",
       "rain_tomorrow    0\n",
       "dtype: int64"
      ]
     },
     "execution_count": 4,
     "metadata": {},
     "output_type": "execute_result"
    }
   ],
   "source": [
    "#number of missing values for each feature\n",
    "\n",
    "df_weather.isnull().sum()"
   ]
  },
  {
   "cell_type": "markdown",
   "id": "b53a71fc",
   "metadata": {},
   "source": [
    "\n",
    "There is no missing data.\n"
   ]
  },
  {
   "cell_type": "markdown",
   "id": "16f0c23e",
   "metadata": {},
   "source": [
    "What the data type should be:\n",
    "\n",
    "M8[ns] -> date\n",
    "\n",
    "numeric -> min_temp, max_temp, rainfall, wind_speed9am, wind_speed3pm, humidity9am, humidity3pm, pressure9am, pressure3pm, temp9am, temp3pm\n",
    "\n",
    "object -> cloud9am, cloud3pm, rain_today, rain_tomorrow"
   ]
  },
  {
   "cell_type": "code",
   "execution_count": 5,
   "id": "078c0858",
   "metadata": {},
   "outputs": [
    {
     "name": "stdout",
     "output_type": "stream",
     "text": [
      "date data type:  datetime64[ns]\n",
      "\n",
      "\n",
      "0   2010-01-01\n",
      "1   2010-01-02\n",
      "2   2010-01-03\n",
      "3   2010-01-04\n",
      "4   2010-01-05\n",
      "Name: date, dtype: datetime64[ns]\n"
     ]
    }
   ],
   "source": [
    "#convert object to date\n",
    "\n",
    "df_weather['date'] = pd.to_datetime(df_weather['date'])\n",
    "print('date data type: ', df_weather['date'].dtype)\n",
    "print('\\n')\n",
    "print(df_weather['date'].head())"
   ]
  },
  {
   "cell_type": "code",
   "execution_count": 17,
   "id": "6647796a",
   "metadata": {},
   "outputs": [
    {
     "data": {
      "text/html": [
       "<div>\n",
       "<style scoped>\n",
       "    .dataframe tbody tr th:only-of-type {\n",
       "        vertical-align: middle;\n",
       "    }\n",
       "\n",
       "    .dataframe tbody tr th {\n",
       "        vertical-align: top;\n",
       "    }\n",
       "\n",
       "    .dataframe thead th {\n",
       "        text-align: right;\n",
       "    }\n",
       "</style>\n",
       "<table border=\"1\" class=\"dataframe\">\n",
       "  <thead>\n",
       "    <tr style=\"text-align: right;\">\n",
       "      <th></th>\n",
       "      <th>year</th>\n",
       "      <th>month</th>\n",
       "      <th>day</th>\n",
       "    </tr>\n",
       "  </thead>\n",
       "  <tbody>\n",
       "    <tr>\n",
       "      <th>0</th>\n",
       "      <td>2010</td>\n",
       "      <td>1</td>\n",
       "      <td>1</td>\n",
       "    </tr>\n",
       "    <tr>\n",
       "      <th>1</th>\n",
       "      <td>2010</td>\n",
       "      <td>1</td>\n",
       "      <td>2</td>\n",
       "    </tr>\n",
       "    <tr>\n",
       "      <th>2</th>\n",
       "      <td>2010</td>\n",
       "      <td>1</td>\n",
       "      <td>3</td>\n",
       "    </tr>\n",
       "    <tr>\n",
       "      <th>3</th>\n",
       "      <td>2010</td>\n",
       "      <td>1</td>\n",
       "      <td>4</td>\n",
       "    </tr>\n",
       "    <tr>\n",
       "      <th>4</th>\n",
       "      <td>2010</td>\n",
       "      <td>1</td>\n",
       "      <td>5</td>\n",
       "    </tr>\n",
       "  </tbody>\n",
       "</table>\n",
       "</div>"
      ],
      "text/plain": [
       "   year  month  day\n",
       "0  2010      1    1\n",
       "1  2010      1    2\n",
       "2  2010      1    3\n",
       "3  2010      1    4\n",
       "4  2010      1    5"
      ]
     },
     "execution_count": 17,
     "metadata": {},
     "output_type": "execute_result"
    }
   ],
   "source": [
    "df_weather['year'] = df_weather['date'].dt.year\n",
    "df_weather['month'] = df_weather['date'].dt.month\n",
    "df_weather['day'] = df_weather['date'].dt.day\n",
    "df_weather[['year', 'month', 'day']].head()"
   ]
  },
  {
   "cell_type": "code",
   "execution_count": 7,
   "id": "0588927f",
   "metadata": {},
   "outputs": [
    {
     "name": "stdout",
     "output_type": "stream",
     "text": [
      "wind_speed9am    float64\n",
      "wind_speed3pm    float64\n",
      "humidity9am      float64\n",
      "humidity3pm      float64\n",
      "pressure9am      float64\n",
      "pressure3pm      float64\n",
      "temp9am          float64\n",
      "temp3pm          float64\n",
      "dtype: object\n",
      "\n",
      "\n"
     ]
    },
    {
     "data": {
      "text/html": [
       "<div>\n",
       "<style scoped>\n",
       "    .dataframe tbody tr th:only-of-type {\n",
       "        vertical-align: middle;\n",
       "    }\n",
       "\n",
       "    .dataframe tbody tr th {\n",
       "        vertical-align: top;\n",
       "    }\n",
       "\n",
       "    .dataframe thead th {\n",
       "        text-align: right;\n",
       "    }\n",
       "</style>\n",
       "<table border=\"1\" class=\"dataframe\">\n",
       "  <thead>\n",
       "    <tr style=\"text-align: right;\">\n",
       "      <th></th>\n",
       "      <th>wind_speed9am</th>\n",
       "      <th>wind_speed3pm</th>\n",
       "      <th>humidity9am</th>\n",
       "      <th>humidity3pm</th>\n",
       "      <th>pressure9am</th>\n",
       "      <th>pressure3pm</th>\n",
       "      <th>temp9am</th>\n",
       "      <th>temp3pm</th>\n",
       "    </tr>\n",
       "  </thead>\n",
       "  <tbody>\n",
       "    <tr>\n",
       "      <th>0</th>\n",
       "      <td>15.0</td>\n",
       "      <td>15.0</td>\n",
       "      <td>76.0</td>\n",
       "      <td>40.0</td>\n",
       "      <td>30.40</td>\n",
       "      <td>30.31</td>\n",
       "      <td>43.0</td>\n",
       "      <td>55.0</td>\n",
       "    </tr>\n",
       "    <tr>\n",
       "      <th>1</th>\n",
       "      <td>5.0</td>\n",
       "      <td>7.0</td>\n",
       "      <td>76.0</td>\n",
       "      <td>28.0</td>\n",
       "      <td>30.35</td>\n",
       "      <td>30.24</td>\n",
       "      <td>44.0</td>\n",
       "      <td>52.0</td>\n",
       "    </tr>\n",
       "    <tr>\n",
       "      <th>2</th>\n",
       "      <td>14.0</td>\n",
       "      <td>9.0</td>\n",
       "      <td>71.0</td>\n",
       "      <td>68.0</td>\n",
       "      <td>30.21</td>\n",
       "      <td>30.17</td>\n",
       "      <td>43.0</td>\n",
       "      <td>48.0</td>\n",
       "    </tr>\n",
       "    <tr>\n",
       "      <th>3</th>\n",
       "      <td>15.0</td>\n",
       "      <td>14.0</td>\n",
       "      <td>70.0</td>\n",
       "      <td>42.0</td>\n",
       "      <td>30.37</td>\n",
       "      <td>30.35</td>\n",
       "      <td>41.0</td>\n",
       "      <td>48.0</td>\n",
       "    </tr>\n",
       "    <tr>\n",
       "      <th>4</th>\n",
       "      <td>9.0</td>\n",
       "      <td>5.0</td>\n",
       "      <td>61.0</td>\n",
       "      <td>37.0</td>\n",
       "      <td>30.47</td>\n",
       "      <td>30.34</td>\n",
       "      <td>35.0</td>\n",
       "      <td>48.0</td>\n",
       "    </tr>\n",
       "  </tbody>\n",
       "</table>\n",
       "</div>"
      ],
      "text/plain": [
       "   wind_speed9am  wind_speed3pm  humidity9am  humidity3pm  pressure9am  \\\n",
       "0           15.0           15.0         76.0         40.0        30.40   \n",
       "1            5.0            7.0         76.0         28.0        30.35   \n",
       "2           14.0            9.0         71.0         68.0        30.21   \n",
       "3           15.0           14.0         70.0         42.0        30.37   \n",
       "4            9.0            5.0         61.0         37.0        30.47   \n",
       "\n",
       "   pressure3pm  temp9am  temp3pm  \n",
       "0        30.31     43.0     55.0  \n",
       "1        30.24     44.0     52.0  \n",
       "2        30.17     43.0     48.0  \n",
       "3        30.35     41.0     48.0  \n",
       "4        30.34     35.0     48.0  "
      ]
     },
     "execution_count": 7,
     "metadata": {},
     "output_type": "execute_result"
    }
   ],
   "source": [
    "#conver object to float data type\n",
    "#already float data type: min_temp, max_temp, rainfall\n",
    "\n",
    "float_cols = ['wind_speed9am', 'wind_speed3pm', 'humidity9am', 'humidity3pm', \n",
    "        'pressure9am', 'pressure3pm', 'temp9am', 'temp3pm']\n",
    "\n",
    "df_weather[float_cols] = df_weather[float_cols].apply(pd.to_numeric, errors='coerce')\n",
    "print(df_weather[float_cols].dtypes)\n",
    "print('\\n')\n",
    "df_weather[float_cols].head()"
   ]
  },
  {
   "cell_type": "code",
   "execution_count": 8,
   "id": "eac4ed40",
   "metadata": {},
   "outputs": [
    {
     "name": "stdout",
     "output_type": "stream",
     "text": [
      "9am features:  ['min_temp', 'max_temp', 'wind_speed9am', 'humidity9am', 'pressure9am', 'temp9am']\n",
      "3pm features:  ['min_temp', 'max_temp', 'wind_speed3pm', 'humidity3pm', 'pressure3pm', 'temp3pm']\n"
     ]
    }
   ],
   "source": [
    "# EDA numeric data by month for each year\n",
    "\n",
    "num_col = [feat for feat in df_weather.columns if df_weather[feat].dtype == 'float64']\n",
    "#removing rain since I was that to be my dependant feature\n",
    "num_col.remove('rainfall')\n",
    "\n",
    "#print(num_col)\n",
    "\n",
    "#separating the 9am data and the 3pm data\n",
    "num_col_9 = [feat for feat in num_col if '3' not in feat]\n",
    "print('9am features: ', num_col_9)\n",
    "num_col_3 = [feat for feat in num_col if '9' not in feat]\n",
    "print('3pm features: ', num_col_3)"
   ]
  },
  {
   "cell_type": "code",
   "execution_count": 34,
   "id": "06bc14fd",
   "metadata": {},
   "outputs": [
    {
     "data": {
      "image/png": "[encoded data removed]",
      "text/plain": [
       "<Figure size 640x480 with 1 Axes>"
      ]
     },
     "metadata": {},
     "output_type": "display_data"
    }
   ],
   "source": [
    "#Ploting the 9 am features\n",
    "\n",
    "ax = df_weather.plot(x=\"date\", y=num_col_9, kind=\"bar\", rot=0, stacked=True)\n",
    "_ = ax.legend(bbox_to_anchor=(1, 1.02), loc='upper left')"
   ]
  },
  {
   "cell_type": "code",
   "execution_count": 45,
   "id": "3da2bbe1",
   "metadata": {},
   "outputs": [
    {
     "data": {
      "text/plain": [
       "Series([], Name: month, dtype: float64)"
      ]
     },
     "execution_count": 45,
     "metadata": {},
     "output_type": "execute_result"
    }
   ],
   "source": [
    "df_year = df_weather[df_weather==2010]\n",
    "df_year = df_year.groupby(['month'], as_index=False).sum()\n",
    "df_year['month']"
   ]
  },
  {
   "cell_type": "code",
   "execution_count": 44,
   "id": "8f29034e",
   "metadata": {},
   "outputs": [
    {
     "name": "stdout",
     "output_type": "stream",
     "text": [
      "Empty DataFrame\n",
      "Columns: [month, min_temp, max_temp, rainfall, wind_speed9am, wind_speed3pm, humidity9am, humidity3pm, pressure9am, pressure3pm, temp9am, temp3pm, year, day]\n",
      "Index: []\n"
     ]
    },
    {
     "ename": "IndexError",
     "evalue": "index 0 is out of bounds for axis 0 with size 0",
     "output_type": "error",
     "traceback": [
      "\u001b[0;31m---------------------------------------------------------------------------\u001b[0m",
      "\u001b[0;31mIndexError\u001b[0m                                Traceback (most recent call last)",
      "\u001b[0;32m/var/folders/t3/m14fghtd0fs5gl_s5tzd3h500000gn/T/ipykernel_864/3532837121.py\u001b[0m in \u001b[0;36m<module>\u001b[0;34m\u001b[0m\n\u001b[1;32m      4\u001b[0m         \u001b[0mdf_year\u001b[0m \u001b[0;34m=\u001b[0m \u001b[0mdf_year\u001b[0m\u001b[0;34m.\u001b[0m\u001b[0mgroupby\u001b[0m\u001b[0;34m(\u001b[0m\u001b[0;34m[\u001b[0m\u001b[0;34m'month'\u001b[0m\u001b[0;34m]\u001b[0m\u001b[0;34m,\u001b[0m \u001b[0mas_index\u001b[0m\u001b[0;34m=\u001b[0m\u001b[0;32mFalse\u001b[0m\u001b[0;34m)\u001b[0m\u001b[0;34m.\u001b[0m\u001b[0msum\u001b[0m\u001b[0;34m(\u001b[0m\u001b[0;34m)\u001b[0m\u001b[0;34m\u001b[0m\u001b[0;34m\u001b[0m\u001b[0m\n\u001b[1;32m      5\u001b[0m         \u001b[0mprint\u001b[0m\u001b[0;34m(\u001b[0m\u001b[0mdf_year\u001b[0m\u001b[0;34m.\u001b[0m\u001b[0mtail\u001b[0m\u001b[0;34m(\u001b[0m\u001b[0;34m)\u001b[0m\u001b[0;34m)\u001b[0m\u001b[0;34m\u001b[0m\u001b[0;34m\u001b[0m\u001b[0m\n\u001b[0;32m----> 6\u001b[0;31m         \u001b[0max\u001b[0m \u001b[0;34m=\u001b[0m \u001b[0mdf_year\u001b[0m\u001b[0;34m.\u001b[0m\u001b[0mplot\u001b[0m\u001b[0;34m(\u001b[0m\u001b[0mx\u001b[0m\u001b[0;34m=\u001b[0m\u001b[0;34m'month'\u001b[0m\u001b[0;34m,\u001b[0m \u001b[0my\u001b[0m\u001b[0;34m=\u001b[0m\u001b[0mnum_col_9\u001b[0m\u001b[0;34m,\u001b[0m \u001b[0mkind\u001b[0m\u001b[0;34m=\u001b[0m\u001b[0;34m\"bar\"\u001b[0m\u001b[0;34m,\u001b[0m \u001b[0mrot\u001b[0m\u001b[0;34m=\u001b[0m\u001b[0;36m0\u001b[0m\u001b[0;34m,\u001b[0m \u001b[0mstacked\u001b[0m\u001b[0;34m=\u001b[0m\u001b[0;32mTrue\u001b[0m\u001b[0;34m)\u001b[0m\u001b[0;34m\u001b[0m\u001b[0;34m\u001b[0m\u001b[0m\n\u001b[0m\u001b[1;32m      7\u001b[0m         \u001b[0m_\u001b[0m \u001b[0;34m=\u001b[0m \u001b[0max\u001b[0m\u001b[0;34m.\u001b[0m\u001b[0mlegend\u001b[0m\u001b[0;34m(\u001b[0m\u001b[0mbbox_to_anchor\u001b[0m\u001b[0;34m=\u001b[0m\u001b[0;34m(\u001b[0m\u001b[0;36m1\u001b[0m\u001b[0;34m,\u001b[0m \u001b[0;36m1.02\u001b[0m\u001b[0;34m)\u001b[0m\u001b[0;34m,\u001b[0m \u001b[0mloc\u001b[0m\u001b[0;34m=\u001b[0m\u001b[0;34m'upper left'\u001b[0m\u001b[0;34m)\u001b[0m\u001b[0;34m\u001b[0m\u001b[0;34m\u001b[0m\u001b[0m\n\u001b[1;32m      8\u001b[0m         \u001b[0mplt\u001b[0m\u001b[0;34m.\u001b[0m\u001b[0mshow\u001b[0m\u001b[0;34m(\u001b[0m\u001b[0;34m)\u001b[0m\u001b[0;34m\u001b[0m\u001b[0;34m\u001b[0m\u001b[0m\n",
      "\u001b[0;32m~/opt/anaconda3/lib/python3.8/site-packages/pandas/plotting/_core.py\u001b[0m in \u001b[0;36m__call__\u001b[0;34m(self, *args, **kwargs)\u001b[0m\n\u001b[1;32m    970\u001b[0m                     \u001b[0mdata\u001b[0m\u001b[0;34m.\u001b[0m\u001b[0mcolumns\u001b[0m \u001b[0;34m=\u001b[0m \u001b[0mlabel_name\u001b[0m\u001b[0;34m\u001b[0m\u001b[0;34m\u001b[0m\u001b[0m\n\u001b[1;32m    971\u001b[0m \u001b[0;34m\u001b[0m\u001b[0m\n\u001b[0;32m--> 972\u001b[0;31m         \u001b[0;32mreturn\u001b[0m \u001b[0mplot_backend\u001b[0m\u001b[0;34m.\u001b[0m\u001b[0mplot\u001b[0m\u001b[0;34m(\u001b[0m\u001b[0mdata\u001b[0m\u001b[0;34m,\u001b[0m \u001b[0mkind\u001b[0m\u001b[0;34m=\u001b[0m\u001b[0mkind\u001b[0m\u001b[0;34m,\u001b[0m \u001b[0;34m**\u001b[0m\u001b[0mkwargs\u001b[0m\u001b[0;34m)\u001b[0m\u001b[0;34m\u001b[0m\u001b[0;34m\u001b[0m\u001b[0m\n\u001b[0m\u001b[1;32m    973\u001b[0m \u001b[0;34m\u001b[0m\u001b[0m\n\u001b[1;32m    974\u001b[0m     \u001b[0m__call__\u001b[0m\u001b[0;34m.\u001b[0m\u001b[0m__doc__\u001b[0m \u001b[0;34m=\u001b[0m \u001b[0m__doc__\u001b[0m\u001b[0;34m\u001b[0m\u001b[0;34m\u001b[0m\u001b[0m\n",
      "\u001b[0;32m~/opt/anaconda3/lib/python3.8/site-packages/pandas/plotting/_matplotlib/__init__.py\u001b[0m in \u001b[0;36mplot\u001b[0;34m(data, kind, **kwargs)\u001b[0m\n\u001b[1;32m     69\u001b[0m             \u001b[0mkwargs\u001b[0m\u001b[0;34m[\u001b[0m\u001b[0;34m\"ax\"\u001b[0m\u001b[0;34m]\u001b[0m \u001b[0;34m=\u001b[0m \u001b[0mgetattr\u001b[0m\u001b[0;34m(\u001b[0m\u001b[0max\u001b[0m\u001b[0;34m,\u001b[0m \u001b[0;34m\"left_ax\"\u001b[0m\u001b[0;34m,\u001b[0m \u001b[0max\u001b[0m\u001b[0;34m)\u001b[0m\u001b[0;34m\u001b[0m\u001b[0;34m\u001b[0m\u001b[0m\n\u001b[1;32m     70\u001b[0m     \u001b[0mplot_obj\u001b[0m \u001b[0;34m=\u001b[0m \u001b[0mPLOT_CLASSES\u001b[0m\u001b[0;34m[\u001b[0m\u001b[0mkind\u001b[0m\u001b[0;34m]\u001b[0m\u001b[0;34m(\u001b[0m\u001b[0mdata\u001b[0m\u001b[0;34m,\u001b[0m \u001b[0;34m**\u001b[0m\u001b[0mkwargs\u001b[0m\u001b[0;34m)\u001b[0m\u001b[0;34m\u001b[0m\u001b[0;34m\u001b[0m\u001b[0m\n\u001b[0;32m---> 71\u001b[0;31m     \u001b[0mplot_obj\u001b[0m\u001b[0;34m.\u001b[0m\u001b[0mgenerate\u001b[0m\u001b[0;34m(\u001b[0m\u001b[0;34m)\u001b[0m\u001b[0;34m\u001b[0m\u001b[0;34m\u001b[0m\u001b[0m\n\u001b[0m\u001b[1;32m     72\u001b[0m     \u001b[0mplot_obj\u001b[0m\u001b[0;34m.\u001b[0m\u001b[0mdraw\u001b[0m\u001b[0;34m(\u001b[0m\u001b[0;34m)\u001b[0m\u001b[0;34m\u001b[0m\u001b[0;34m\u001b[0m\u001b[0m\n\u001b[1;32m     73\u001b[0m     \u001b[0;32mreturn\u001b[0m \u001b[0mplot_obj\u001b[0m\u001b[0;34m.\u001b[0m\u001b[0mresult\u001b[0m\u001b[0;34m\u001b[0m\u001b[0;34m\u001b[0m\u001b[0m\n",
      "\u001b[0;32m~/opt/anaconda3/lib/python3.8/site-packages/pandas/plotting/_matplotlib/core.py\u001b[0m in \u001b[0;36mgenerate\u001b[0;34m(self)\u001b[0m\n\u001b[1;32m    334\u001b[0m         \u001b[0;32mfor\u001b[0m \u001b[0max\u001b[0m \u001b[0;32min\u001b[0m \u001b[0mself\u001b[0m\u001b[0;34m.\u001b[0m\u001b[0maxes\u001b[0m\u001b[0;34m:\u001b[0m\u001b[0;34m\u001b[0m\u001b[0;34m\u001b[0m\u001b[0m\n\u001b[1;32m    335\u001b[0m             \u001b[0mself\u001b[0m\u001b[0;34m.\u001b[0m\u001b[0m_post_plot_logic_common\u001b[0m\u001b[0;34m(\u001b[0m\u001b[0max\u001b[0m\u001b[0;34m,\u001b[0m \u001b[0mself\u001b[0m\u001b[0;34m.\u001b[0m\u001b[0mdata\u001b[0m\u001b[0;34m)\u001b[0m\u001b[0;34m\u001b[0m\u001b[0;34m\u001b[0m\u001b[0m\n\u001b[0;32m--> 336\u001b[0;31m             \u001b[0mself\u001b[0m\u001b[0;34m.\u001b[0m\u001b[0m_post_plot_logic\u001b[0m\u001b[0;34m(\u001b[0m\u001b[0max\u001b[0m\u001b[0;34m,\u001b[0m \u001b[0mself\u001b[0m\u001b[0;34m.\u001b[0m\u001b[0mdata\u001b[0m\u001b[0;34m)\u001b[0m\u001b[0;34m\u001b[0m\u001b[0;34m\u001b[0m\u001b[0m\n\u001b[0m\u001b[1;32m    337\u001b[0m \u001b[0;34m\u001b[0m\u001b[0m\n\u001b[1;32m    338\u001b[0m     \u001b[0;32mdef\u001b[0m \u001b[0m_args_adjust\u001b[0m\u001b[0;34m(\u001b[0m\u001b[0mself\u001b[0m\u001b[0;34m)\u001b[0m\u001b[0;34m:\u001b[0m\u001b[0;34m\u001b[0m\u001b[0;34m\u001b[0m\u001b[0m\n",
      "\u001b[0;32m~/opt/anaconda3/lib/python3.8/site-packages/pandas/plotting/_matplotlib/core.py\u001b[0m in \u001b[0;36m_post_plot_logic\u001b[0;34m(self, ax, data)\u001b[0m\n\u001b[1;32m   1575\u001b[0m         \u001b[0mname\u001b[0m \u001b[0;34m=\u001b[0m \u001b[0mself\u001b[0m\u001b[0;34m.\u001b[0m\u001b[0m_get_index_name\u001b[0m\u001b[0;34m(\u001b[0m\u001b[0;34m)\u001b[0m\u001b[0;34m\u001b[0m\u001b[0;34m\u001b[0m\u001b[0m\n\u001b[1;32m   1576\u001b[0m \u001b[0;34m\u001b[0m\u001b[0m\n\u001b[0;32m-> 1577\u001b[0;31m         \u001b[0ms_edge\u001b[0m \u001b[0;34m=\u001b[0m \u001b[0mself\u001b[0m\u001b[0;34m.\u001b[0m\u001b[0max_pos\u001b[0m\u001b[0;34m[\u001b[0m\u001b[0;36m0\u001b[0m\u001b[0;34m]\u001b[0m \u001b[0;34m-\u001b[0m \u001b[0;36m0.25\u001b[0m \u001b[0;34m+\u001b[0m \u001b[0mself\u001b[0m\u001b[0;34m.\u001b[0m\u001b[0mlim_offset\u001b[0m\u001b[0;34m\u001b[0m\u001b[0;34m\u001b[0m\u001b[0m\n\u001b[0m\u001b[1;32m   1578\u001b[0m         \u001b[0me_edge\u001b[0m \u001b[0;34m=\u001b[0m \u001b[0mself\u001b[0m\u001b[0;34m.\u001b[0m\u001b[0max_pos\u001b[0m\u001b[0;34m[\u001b[0m\u001b[0;34m-\u001b[0m\u001b[0;36m1\u001b[0m\u001b[0;34m]\u001b[0m \u001b[0;34m+\u001b[0m \u001b[0;36m0.25\u001b[0m \u001b[0;34m+\u001b[0m \u001b[0mself\u001b[0m\u001b[0;34m.\u001b[0m\u001b[0mbar_width\u001b[0m \u001b[0;34m+\u001b[0m \u001b[0mself\u001b[0m\u001b[0;34m.\u001b[0m\u001b[0mlim_offset\u001b[0m\u001b[0;34m\u001b[0m\u001b[0;34m\u001b[0m\u001b[0m\n\u001b[1;32m   1579\u001b[0m \u001b[0;34m\u001b[0m\u001b[0m\n",
      "\u001b[0;31mIndexError\u001b[0m: index 0 is out of bounds for axis 0 with size 0"
     ]
    },
    {
     "data": {
      "image/png": "[encoded data removed]",
      "text/plain": [
       "<Figure size 640x480 with 1 Axes>"
      ]
     },
     "metadata": {},
     "output_type": "display_data"
    }
   ],
   "source": [
    "for year in range(2010, 2022):\n",
    "    if year in df_weather['year']:\n",
    "        df_year = df_weather[df_weather==year]\n",
    "        df_year = df_year.groupby(['month'], as_index=False).sum()\n",
    "        print(df_year.tail())\n",
    "        ax = df_year.plot(x='month', y=num_col_9, kind=\"bar\", rot=0, stacked=True)\n",
    "        _ = ax.legend(bbox_to_anchor=(1, 1.02), loc='upper left')\n",
    "        plt.show()\n",
    "    else:\n",
    "        continue\n",
    "    \n",
    "    #plt.show()"
   ]
  },
  {
   "cell_type": "code",
   "execution_count": null,
   "id": "db6375fd",
   "metadata": {},
   "outputs": [],
   "source": [
    "ax = df_weather.plot(x=\"date\", y=\"A\", kind=\"bar\", rot=0)\n",
    "df_weather.plot(x=\"date\", y=\"B\", kind=\"bar\", ax=ax, color=\"C2\", rot=0)\n",
    "df_weather.plot(x=\"X\", y=\"C\", kind=\"bar\", ax=ax, color=\"C3\", rot=0)\n",
    "\n",
    "for year in range(2010, 2022):\n",
    "    if year is in df_weather['year']:\n",
    "        df_year = df_weather[df_weather['year']==year]\n",
    "        \n",
    "        for feat in num_col_9:\n",
    "            \n",
    "        \n",
    "    else:\n",
    "        continue\n",
    "    \n",
    "    plt.show()"
   ]
  }
 ],
 "metadata": {
  "kernelspec": {
   "display_name": "Python 3 (ipykernel)",
   "language": "python",
   "name": "python3"
  },
  "language_info": {
   "codemirror_mode": {
    "name": "ipython",
    "version": 3
   },
   "file_extension": ".py",
   "mimetype": "text/x-python",
   "name": "python",
   "nbconvert_exporter": "python",
   "pygments_lexer": "ipython3",
   "version": "3.8.15"
  }
 },
 "nbformat": 4,
 "nbformat_minor": 5
}
